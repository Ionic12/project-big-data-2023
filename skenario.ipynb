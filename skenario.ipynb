{
 "cells": [
  {
   "cell_type": "code",
   "execution_count": null,
   "metadata": {},
   "outputs": [],
   "source": [
    "import org.apache.spark.sql.functions.{avg, year}\n",
    "import org.apache.spark.sql.SparkSession\n",
    "import org.apache.spark.sql.DataFrame\n",
    "import spark.implicits._\n",
    "\n",
    "val spark = SparkSession.builder.appName(\"GDP Analysis\").getOrCreate()\n",
    "\n",
    "val df: DataFrame = spark.read.format(\"csv\").option(\"header\", \"true\").option(\"database\", \"mydb\").load(\"file:///home/cloudera/final.csv\")\n",
    "\n",
    "val cleanedDf = df.na.drop().dropDuplicates()\n",
    "\n",
    "val transformedDf = cleanedDf.withColumn(\"year\", year(cleanedDf(\"date\"))).groupBy(\"location\", \"year\").agg(avg(\"gdp_per_capita\")).orderBy(\"location\", \"year\").toDF(\"location\", \"year\", \"avg_gdp_per_capita\")\n",
    "\n",
    "transformedDf.write.format(\"csv\").option(\"header\", \"true\").mode(\"overwrite\").save(\"file:///home/cloudera/gdp_per_year.csv\")\n",
    "\n",
    "spark.stop()\n"
   ]
  }
 ],
 "metadata": {
  "kernelspec": {
   "display_name": "base",
   "language": "python",
   "name": "python3"
  },
  "language_info": {
   "codemirror_mode": {
    "name": "ipython",
    "version": 3
   },
   "file_extension": ".py",
   "mimetype": "text/x-python",
   "name": "python",
   "nbconvert_exporter": "python",
   "pygments_lexer": "ipython3",
   "version": "3.8.8"
  },
  "orig_nbformat": 4,
  "vscode": {
   "interpreter": {
    "hash": "a077222d77dfe082b8f1dd562ad70e458ac2ab76993a0b248ab0476e32e9e8dd"
   }
  }
 },
 "nbformat": 4,
 "nbformat_minor": 2
}
